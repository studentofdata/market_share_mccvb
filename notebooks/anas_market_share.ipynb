{
 "cells": [
  {
   "cell_type": "code",
   "execution_count": 1,
   "metadata": {
    "collapsed": false
   },
   "outputs": [],
   "source": [
    "import os\n",
    "import pandas as pd\n",
    "from ggplot import *\n",
    "import numpy as np\n",
    "import matplotlib.pyplot as plt\n",
    "\n",
    "%matplotlib inline\n",
    "\n",
    "# Data Location within CC DS\n",
    "data_location = os.path.join(\"..\",\"data\",\"external\")\n",
    "\n",
    "#######################################################\n",
    "# Create Lists of Columns for Subsetting Data for Analysis\n",
    "# Create Mapping of Column Names for Cleanliness\n",
    "#\n",
    "\n",
    "compset_sdr_list = ['Date',\n",
    "                    'Region',\n",
    "                    'Supply-Total',\n",
    "                    'Demand-Trans.',\n",
    "                    'Demand-Grp.',\n",
    "                    'Demand-Con.',\n",
    "                    'Demand-Total',\n",
    "                    'Revenue-Trans.',\n",
    "                    'Revnue-Grp.',\n",
    "                    'Revenue-Con.',\n",
    "                    'Revenue-Total']\n",
    "\n",
    "compset_sdr_mapping = {\n",
    "                   'Supply-Total':'S-Total',\n",
    "                   'Demand-Trans.':'D-Trans',\n",
    "                   'Demand-Grp.':'D-Grp',\n",
    "                   'Demand-Con.':'D-Con',\n",
    "                   'Demand-Total':'D-Total',\n",
    "                   'Revenue-Trans.': 'R-Trans',\n",
    "                   'Revenue-Grp.':'R-Grp',\n",
    "                   'Revenue-Con.':'R-Con',\n",
    "                   'Revenue-Total':'R-Total'\n",
    "                    }\n",
    "\n",
    "compset_oar_list = ['Date',\n",
    "                   'Region',\n",
    "                   'Occ-Trans.',\n",
    "                   'Occ-Grp.',\n",
    "                   'Occ-Cont.',\n",
    "                   'Occ-Total',\n",
    "                   'ADR-Trans.',\n",
    "                   'ADR-Grp.',\n",
    "                   'ADR-Cont.',\n",
    "                   'ADR-Total',\n",
    "                   'RevPAR-Trans.',\n",
    "                   'RevPAR-Grp.',\n",
    "                   'RevPAR-Cont.',\n",
    "                    'RevPAR-Total']\n",
    "\n",
    "compset_oar_list = {\n",
    "                   'Occ-Trans.':'OCC_TRANS',\n",
    "                   'Occ-Grp.':'OCC_GRP',\n",
    "                   'Occ-Cont.':'OCC_CONT',\n",
    "                   'Occ-Total':'OCC_TOTAL',\n",
    "                   'ADR-Trans.':'ADR-TRANS',\n",
    "                   'ADR-Grp.':'ADR-GRP',\n",
    "                   'ADR-Cont.':'ADR-CONT',\n",
    "                   'ADR-Total':'ADR-TOTAL',\n",
    "                   'RevPAR-Trans.':'RevPAR-TRANS',\n",
    "                   'RevPAR-Grp.':'RevPAR-GRP',\n",
    "                   'RevPAR-Cont.':'RevPAR-CONT',\n",
    "                    'RevPAR-Total':'RevPAR-TOTAL'\n",
    "                    }\n",
    "\n",
    "\n",
    "m_cnty_sdr_list = ['Year',\n",
    "               'Month',\n",
    "               'Region',\n",
    "               'Supply-Total',\n",
    "               'Demand-Total',\n",
    "               'Revenue-Total']\n",
    "\n",
    "m_cnty_sdr_mapping = {\n",
    "                'Supply-Total':'S-Total',\n",
    "                'Demand-Total':'D-Total',\n",
    "                'Revenue-Total':'R-Total'\n",
    "                }\n",
    "\n",
    "totals_analysis_list = ['S-Total',\n",
    "                        'D-Total',\n",
    "                        'R-Total',\n",
    "                        'Month',\n",
    "                        'Year',\n",
    "                        'Date',\n",
    "                        'Region']\n",
    "\n",
    "# Read in Monterey County XLS\n",
    "#\n",
    "# Documentation for Monterey County XLS goes here...\n",
    "file_path = os.path.join(data_location, \"Monterey-County-City-STR-ALL.xlsx\")\n",
    "m_cnty = pd.read_excel(file_path, sheetname = \"County of Monterey 05-16 Seg\")\n",
    "m_cty = pd.read_excel(file_path, sheetname = \"City of Monterey 00-16 Agg\")\n",
    "\n",
    "# Read in Compset data\n",
    "file_path = os.path.join(data_location, \"Comp-Set-STR-ALL.xlsx\")\n",
    "compset_hm = pd.read_excel(file_path, sheetname = \"Comp-Set OCC-ADR-RevPARv2\")\n",
    "compset_sdr = pd.read_excel(file_path, sheetname = \"Comp-Set S-D-Rv3\")"
   ]
  },
  {
   "cell_type": "code",
   "execution_count": 2,
   "metadata": {
    "collapsed": false
   },
   "outputs": [],
   "source": [
    "###################################################\n",
    "# Process monterey_county\n",
    "m_cnty['Region'] = 'Monterey County, CA'\n",
    "m_cnty = m_cnty[m_cnty_sdr_list]\n",
    "m_cnty = m_cnty.rename(columns=m_cnty_sdr_mapping)\n",
    "\n",
    "\n",
    "m_cnty['Month'] = m_cnty['Month'].apply(str)\n",
    "m_cnty['Year'] = m_cnty['Year'].apply(str)\n",
    "m_cnty['Date'] = m_cnty['Year'] + \"-\" + m_cnty['Month']\n",
    "m_cnty['Date'] = pd.to_datetime(m_cnty['Date'], format = \"%Y-%b\")\n",
    "\n",
    "m_cnty = m_cnty[totals_analysis_list]"
   ]
  },
  {
   "cell_type": "code",
   "execution_count": 3,
   "metadata": {
    "collapsed": false
   },
   "outputs": [],
   "source": [
    "###################################################\n",
    "# Process compset_sdr\n",
    "compset_sdr_v1 = compset_sdr[compset_sdr_list]\n",
    "compset_sdr_v1 = compset_sdr_v1.rename(columns=compset_sdr_mapping)\n",
    "\n",
    "#Date & Time Manipulation\n",
    "compset_sdr_v1['Date'] = pd.to_datetime(compset_sdr_v1['Date'])\n",
    "compset_sdr_v1['Month'] = compset_sdr_v1['Date'].apply(lambda x: x.month)\n",
    "compset_sdr_v1['Year'] = compset_sdr_v1['Date'].apply(lambda x: x.year)\n",
    "\n",
    "#String Manipulation\n",
    "compset_sdr_v1['Region'] = compset_sdr_v1['Region'].str.replace('+','')\n",
    "\n",
    "# What is Monterey's Share of Total Demand & Revenue by Year Amongst it's compset for that time period.\n",
    "# This is the spot where we grab only the Supply, Demand, & Revenue Totals for analysis. \n",
    "compset_sdr_v1 = compset_sdr_v1[totals_analysis_list] # I have to conform to the m_cnty columns for a clean append*\n"
   ]
  },
  {
   "cell_type": "code",
   "execution_count": 4,
   "metadata": {
    "collapsed": true
   },
   "outputs": [],
   "source": [
    "####################################################\n",
    "# Combine the datasets for Econ Metrics\n",
    "compset_sdr_v2 = compset_sdr_v1.append(m_cnty)\n",
    "\n",
    "# Compset Year Month Group\n",
    "c_year_month = compset_sdr_v1.groupby(['Year','Month'])\n",
    "c_total_revenue = c_year_month[\"S-Total\",\"D-Total\",\"R-Total\"].aggregate(sum)\n",
    "c_total_revenue = c_total_revenue.reset_index()\n",
    "\n",
    "# DataFrame Total Includes everything needed for basic calculations and analysis. Further may be necessary\n",
    "df_tot = pd.merge(compset_sdr_v1, c_total_revenue, on = [\"Month\",\"Year\"], suffixes = (\"OA\"))"
   ]
  },
  {
   "cell_type": "code",
   "execution_count": 7,
   "metadata": {
    "collapsed": false
   },
   "outputs": [
    {
     "data": {
      "text/plain": [
       "S-TotalO                      int64\n",
       "D-TotalO                    float64\n",
       "R-TotalO                    float64\n",
       "Month                         int64\n",
       "Year                          int64\n",
       "Date                 datetime64[ns]\n",
       "Region                       object\n",
       "S-TotalA                      int64\n",
       "D-TotalA                    float64\n",
       "R-TotalA                    float64\n",
       "Revenue_share               float64\n",
       "Demand_share                float64\n",
       "Revenue_share_ann           float64\n",
       "Revenue_share_mom           float64\n",
       "Demand_share_ann            float64\n",
       "Demand_share_mom            float64\n",
       "dtype: object"
      ]
     },
     "execution_count": 7,
     "metadata": {},
     "output_type": "execute_result"
    }
   ],
   "source": [
    "####################################################\n",
    "# Begin Analysis and Subsetting\n",
    "# Starting with basic Revenue Share & Demand Share \n",
    "\n",
    "df_tot = df_tot[df_tot['Date'] > '2012-01-01']\n",
    "\n",
    "df_tot['Revenue_share'] = df_tot['R-TotalO']/df_tot['R-TotalA']\n",
    "df_tot['Demand_share']  = df_tot['D-TotalO']/df_tot['D-TotalA']\n",
    "\n",
    "df_tot['Revenue_share_ann'] = df_tot.groupby(['Region'])['Revenue_share'].pct_change(12)\n",
    "df_tot['Revenue_share_mom'] = df_tot.groupby(['Region'])['Revenue_share'].pct_change(1)\n",
    "df_tot['Demand_share_ann']  = df_tot.groupby(['Region'])['Demand_share'].pct_change(12)\n",
    "df_tot['Demand_share_mom']  = df_tot.groupby(['Region'])['Demand_share'].pct_change(1)\n",
    "df_tot.dtypes\n",
    "\n",
    "\n",
    "\n",
    "\n",
    "#df_tot.to_csv(\"total_shares.csv\",index = False)"
   ]
  },
  {
   "cell_type": "code",
   "execution_count": 6,
   "metadata": {
    "collapsed": false
   },
   "outputs": [
    {
     "name": "stderr",
     "output_type": "stream",
     "text": [
      "C:\\Users\\Cloud User\\Anaconda2\\lib\\site-packages\\ipykernel\\__main__.py:3: SettingWithCopyWarning: \n",
      "A value is trying to be set on a copy of a slice from a DataFrame.\n",
      "Try using .loc[row_indexer,col_indexer] = value instead\n",
      "\n",
      "See the caveats in the documentation: http://pandas.pydata.org/pandas-docs/stable/indexing.html#indexing-view-versus-copy\n",
      "  app.launch_new_instance()\n"
     ]
    },
    {
     "ename": "ValueError",
     "evalue": "invalid literal for float(): 2016-8",
     "output_type": "error",
     "traceback": [
      "\u001b[1;31m\u001b[0m",
      "\u001b[1;31mValueError\u001b[0mTraceback (most recent call last)",
      "\u001b[1;32m<ipython-input-6-2a93df14b04a>\u001b[0m in \u001b[0;36m<module>\u001b[1;34m()\u001b[0m\n\u001b[0;32m      5\u001b[0m \u001b[0mm_share\u001b[0m \u001b[1;33m=\u001b[0m \u001b[0mggplot\u001b[0m\u001b[1;33m(\u001b[0m\u001b[0maes\u001b[0m\u001b[1;33m(\u001b[0m\u001b[0mx\u001b[0m\u001b[1;33m=\u001b[0m\u001b[1;34m\"Month-Year\"\u001b[0m\u001b[1;33m,\u001b[0m\u001b[0my\u001b[0m\u001b[1;33m=\u001b[0m\u001b[1;34m\"Demand_share_mom\"\u001b[0m\u001b[1;33m)\u001b[0m\u001b[1;33m,\u001b[0m \u001b[0mdata\u001b[0m \u001b[1;33m=\u001b[0m \u001b[0mmonterey_share\u001b[0m\u001b[1;33m)\u001b[0m\u001b[1;33m\u001b[0m\u001b[0m\n\u001b[0;32m      6\u001b[0m \u001b[0mm_share\u001b[0m \u001b[1;33m=\u001b[0m \u001b[0mm_share\u001b[0m \u001b[1;33m+\u001b[0m \u001b[0mgeom_line\u001b[0m\u001b[1;33m(\u001b[0m\u001b[1;33m)\u001b[0m\u001b[1;31m# + scale_x_date(labels=date_format('%Y-%m-%d'))\u001b[0m\u001b[1;33m\u001b[0m\u001b[0m\n\u001b[1;32m----> 7\u001b[1;33m \u001b[0mm_share\u001b[0m\u001b[1;33m.\u001b[0m\u001b[0mshow\u001b[0m\u001b[1;33m(\u001b[0m\u001b[1;33m)\u001b[0m\u001b[1;33m\u001b[0m\u001b[0m\n\u001b[0m\u001b[0;32m      8\u001b[0m \u001b[1;33m\u001b[0m\u001b[0m\n\u001b[0;32m      9\u001b[0m \u001b[1;33m\u001b[0m\u001b[0m\n",
      "\u001b[1;32mC:\\Users\\Cloud User\\Anaconda2\\lib\\site-packages\\ggplot\\ggplot.pyc\u001b[0m in \u001b[0;36mshow\u001b[1;34m(self)\u001b[0m\n\u001b[0;32m    128\u001b[0m         \u001b[0mBuilds\u001b[0m \u001b[1;32mand\u001b[0m \u001b[0mdisplays\u001b[0m \u001b[0myour\u001b[0m \u001b[0mplot\u001b[0m\u001b[1;33m.\u001b[0m\u001b[1;33m\u001b[0m\u001b[0m\n\u001b[0;32m    129\u001b[0m         \"\"\"\n\u001b[1;32m--> 130\u001b[1;33m         \u001b[0mself\u001b[0m\u001b[1;33m.\u001b[0m\u001b[0mmake\u001b[0m\u001b[1;33m(\u001b[0m\u001b[1;33m)\u001b[0m\u001b[1;33m\u001b[0m\u001b[0m\n\u001b[0m\u001b[0;32m    131\u001b[0m         \u001b[0mplt\u001b[0m\u001b[1;33m.\u001b[0m\u001b[0mshow\u001b[0m\u001b[1;33m(\u001b[0m\u001b[1;33m)\u001b[0m\u001b[1;33m\u001b[0m\u001b[0m\n\u001b[0;32m    132\u001b[0m \u001b[1;33m\u001b[0m\u001b[0m\n",
      "\u001b[1;32mC:\\Users\\Cloud User\\Anaconda2\\lib\\site-packages\\ggplot\\ggplot.pyc\u001b[0m in \u001b[0;36mmake\u001b[1;34m(self)\u001b[0m\n\u001b[0;32m    625\u001b[0m                         \u001b[1;32mif\u001b[0m \u001b[0mkwargs\u001b[0m\u001b[1;33m==\u001b[0m\u001b[0mFalse\u001b[0m\u001b[1;33m:\u001b[0m\u001b[1;33m\u001b[0m\u001b[0m\n\u001b[0;32m    626\u001b[0m                             \u001b[1;32mcontinue\u001b[0m\u001b[1;33m\u001b[0m\u001b[0m\n\u001b[1;32m--> 627\u001b[1;33m                         \u001b[0mlayer\u001b[0m\u001b[1;33m.\u001b[0m\u001b[0mplot\u001b[0m\u001b[1;33m(\u001b[0m\u001b[0max\u001b[0m\u001b[1;33m,\u001b[0m \u001b[0mfacetgroup\u001b[0m\u001b[1;33m,\u001b[0m \u001b[0mself\u001b[0m\u001b[1;33m.\u001b[0m\u001b[0m_aes\u001b[0m\u001b[1;33m,\u001b[0m \u001b[1;33m**\u001b[0m\u001b[0mkwargs\u001b[0m\u001b[1;33m)\u001b[0m\u001b[1;33m\u001b[0m\u001b[0m\n\u001b[0m\u001b[0;32m    628\u001b[0m \u001b[1;33m\u001b[0m\u001b[0m\n\u001b[0;32m    629\u001b[0m             \u001b[0mself\u001b[0m\u001b[1;33m.\u001b[0m\u001b[0mapply_limits\u001b[0m\u001b[1;33m(\u001b[0m\u001b[1;33m)\u001b[0m\u001b[1;33m\u001b[0m\u001b[0m\n",
      "\u001b[1;32mC:\\Users\\Cloud User\\Anaconda2\\lib\\site-packages\\ggplot\\geoms\\geom_line.pyc\u001b[0m in \u001b[0;36mplot\u001b[1;34m(self, ax, data, _aes)\u001b[0m\n\u001b[0;32m     47\u001b[0m             \u001b[0mx\u001b[0m\u001b[1;33m,\u001b[0m \u001b[0my\u001b[0m \u001b[1;33m=\u001b[0m \u001b[0mx\u001b[0m\u001b[1;33m.\u001b[0m\u001b[0miloc\u001b[0m\u001b[1;33m[\u001b[0m\u001b[0morder\u001b[0m\u001b[1;33m]\u001b[0m\u001b[1;33m,\u001b[0m \u001b[0my\u001b[0m\u001b[1;33m.\u001b[0m\u001b[0miloc\u001b[0m\u001b[1;33m[\u001b[0m\u001b[0morder\u001b[0m\u001b[1;33m]\u001b[0m\u001b[1;33m\u001b[0m\u001b[0m\n\u001b[0;32m     48\u001b[0m \u001b[1;33m\u001b[0m\u001b[0m\n\u001b[1;32m---> 49\u001b[1;33m         \u001b[0max\u001b[0m\u001b[1;33m.\u001b[0m\u001b[0mplot\u001b[0m\u001b[1;33m(\u001b[0m\u001b[0mx\u001b[0m\u001b[1;33m,\u001b[0m \u001b[0my\u001b[0m\u001b[1;33m,\u001b[0m \u001b[1;33m**\u001b[0m\u001b[0mparams\u001b[0m\u001b[1;33m)\u001b[0m\u001b[1;33m\u001b[0m\u001b[0m\n\u001b[0m",
      "\u001b[1;32mC:\\Users\\Cloud User\\Anaconda2\\lib\\site-packages\\matplotlib\\__init__.pyc\u001b[0m in \u001b[0;36minner\u001b[1;34m(ax, *args, **kwargs)\u001b[0m\n\u001b[0;32m   1817\u001b[0m                     warnings.warn(msg % (label_namer, func.__name__),\n\u001b[0;32m   1818\u001b[0m                                   RuntimeWarning, stacklevel=2)\n\u001b[1;32m-> 1819\u001b[1;33m             \u001b[1;32mreturn\u001b[0m \u001b[0mfunc\u001b[0m\u001b[1;33m(\u001b[0m\u001b[0max\u001b[0m\u001b[1;33m,\u001b[0m \u001b[1;33m*\u001b[0m\u001b[0margs\u001b[0m\u001b[1;33m,\u001b[0m \u001b[1;33m**\u001b[0m\u001b[0mkwargs\u001b[0m\u001b[1;33m)\u001b[0m\u001b[1;33m\u001b[0m\u001b[0m\n\u001b[0m\u001b[0;32m   1820\u001b[0m         \u001b[0mpre_doc\u001b[0m \u001b[1;33m=\u001b[0m \u001b[0minner\u001b[0m\u001b[1;33m.\u001b[0m\u001b[0m__doc__\u001b[0m\u001b[1;33m\u001b[0m\u001b[0m\n\u001b[0;32m   1821\u001b[0m         \u001b[1;32mif\u001b[0m \u001b[0mpre_doc\u001b[0m \u001b[1;32mis\u001b[0m \u001b[0mNone\u001b[0m\u001b[1;33m:\u001b[0m\u001b[1;33m\u001b[0m\u001b[0m\n",
      "\u001b[1;32mC:\\Users\\Cloud User\\Anaconda2\\lib\\site-packages\\matplotlib\\axes\\_axes.pyc\u001b[0m in \u001b[0;36mplot\u001b[1;34m(self, *args, **kwargs)\u001b[0m\n\u001b[0;32m   1381\u001b[0m \u001b[1;33m\u001b[0m\u001b[0m\n\u001b[0;32m   1382\u001b[0m         \u001b[1;32mfor\u001b[0m \u001b[0mline\u001b[0m \u001b[1;32min\u001b[0m \u001b[0mself\u001b[0m\u001b[1;33m.\u001b[0m\u001b[0m_get_lines\u001b[0m\u001b[1;33m(\u001b[0m\u001b[1;33m*\u001b[0m\u001b[0margs\u001b[0m\u001b[1;33m,\u001b[0m \u001b[1;33m**\u001b[0m\u001b[0mkwargs\u001b[0m\u001b[1;33m)\u001b[0m\u001b[1;33m:\u001b[0m\u001b[1;33m\u001b[0m\u001b[0m\n\u001b[1;32m-> 1383\u001b[1;33m             \u001b[0mself\u001b[0m\u001b[1;33m.\u001b[0m\u001b[0madd_line\u001b[0m\u001b[1;33m(\u001b[0m\u001b[0mline\u001b[0m\u001b[1;33m)\u001b[0m\u001b[1;33m\u001b[0m\u001b[0m\n\u001b[0m\u001b[0;32m   1384\u001b[0m             \u001b[0mlines\u001b[0m\u001b[1;33m.\u001b[0m\u001b[0mappend\u001b[0m\u001b[1;33m(\u001b[0m\u001b[0mline\u001b[0m\u001b[1;33m)\u001b[0m\u001b[1;33m\u001b[0m\u001b[0m\n\u001b[0;32m   1385\u001b[0m \u001b[1;33m\u001b[0m\u001b[0m\n",
      "\u001b[1;32mC:\\Users\\Cloud User\\Anaconda2\\lib\\site-packages\\matplotlib\\axes\\_base.pyc\u001b[0m in \u001b[0;36madd_line\u001b[1;34m(self, line)\u001b[0m\n\u001b[0;32m   1701\u001b[0m             \u001b[0mline\u001b[0m\u001b[1;33m.\u001b[0m\u001b[0mset_clip_path\u001b[0m\u001b[1;33m(\u001b[0m\u001b[0mself\u001b[0m\u001b[1;33m.\u001b[0m\u001b[0mpatch\u001b[0m\u001b[1;33m)\u001b[0m\u001b[1;33m\u001b[0m\u001b[0m\n\u001b[0;32m   1702\u001b[0m \u001b[1;33m\u001b[0m\u001b[0m\n\u001b[1;32m-> 1703\u001b[1;33m         \u001b[0mself\u001b[0m\u001b[1;33m.\u001b[0m\u001b[0m_update_line_limits\u001b[0m\u001b[1;33m(\u001b[0m\u001b[0mline\u001b[0m\u001b[1;33m)\u001b[0m\u001b[1;33m\u001b[0m\u001b[0m\n\u001b[0m\u001b[0;32m   1704\u001b[0m         \u001b[1;32mif\u001b[0m \u001b[1;32mnot\u001b[0m \u001b[0mline\u001b[0m\u001b[1;33m.\u001b[0m\u001b[0mget_label\u001b[0m\u001b[1;33m(\u001b[0m\u001b[1;33m)\u001b[0m\u001b[1;33m:\u001b[0m\u001b[1;33m\u001b[0m\u001b[0m\n\u001b[0;32m   1705\u001b[0m             \u001b[0mline\u001b[0m\u001b[1;33m.\u001b[0m\u001b[0mset_label\u001b[0m\u001b[1;33m(\u001b[0m\u001b[1;34m'_line%d'\u001b[0m \u001b[1;33m%\u001b[0m \u001b[0mlen\u001b[0m\u001b[1;33m(\u001b[0m\u001b[0mself\u001b[0m\u001b[1;33m.\u001b[0m\u001b[0mlines\u001b[0m\u001b[1;33m)\u001b[0m\u001b[1;33m)\u001b[0m\u001b[1;33m\u001b[0m\u001b[0m\n",
      "\u001b[1;32mC:\\Users\\Cloud User\\Anaconda2\\lib\\site-packages\\matplotlib\\axes\\_base.pyc\u001b[0m in \u001b[0;36m_update_line_limits\u001b[1;34m(self, line)\u001b[0m\n\u001b[0;32m   1723\u001b[0m         \u001b[0mFigures\u001b[0m \u001b[0mout\u001b[0m \u001b[0mthe\u001b[0m \u001b[0mdata\u001b[0m \u001b[0mlimit\u001b[0m \u001b[0mof\u001b[0m \u001b[0mthe\u001b[0m \u001b[0mgiven\u001b[0m \u001b[0mline\u001b[0m\u001b[1;33m,\u001b[0m \u001b[0mupdating\u001b[0m \u001b[0mself\u001b[0m\u001b[1;33m.\u001b[0m\u001b[0mdataLim\u001b[0m\u001b[1;33m.\u001b[0m\u001b[1;33m\u001b[0m\u001b[0m\n\u001b[0;32m   1724\u001b[0m         \"\"\"\n\u001b[1;32m-> 1725\u001b[1;33m         \u001b[0mpath\u001b[0m \u001b[1;33m=\u001b[0m \u001b[0mline\u001b[0m\u001b[1;33m.\u001b[0m\u001b[0mget_path\u001b[0m\u001b[1;33m(\u001b[0m\u001b[1;33m)\u001b[0m\u001b[1;33m\u001b[0m\u001b[0m\n\u001b[0m\u001b[0;32m   1726\u001b[0m         \u001b[1;32mif\u001b[0m \u001b[0mpath\u001b[0m\u001b[1;33m.\u001b[0m\u001b[0mvertices\u001b[0m\u001b[1;33m.\u001b[0m\u001b[0msize\u001b[0m \u001b[1;33m==\u001b[0m \u001b[1;36m0\u001b[0m\u001b[1;33m:\u001b[0m\u001b[1;33m\u001b[0m\u001b[0m\n\u001b[0;32m   1727\u001b[0m             \u001b[1;32mreturn\u001b[0m\u001b[1;33m\u001b[0m\u001b[0m\n",
      "\u001b[1;32mC:\\Users\\Cloud User\\Anaconda2\\lib\\site-packages\\matplotlib\\lines.pyc\u001b[0m in \u001b[0;36mget_path\u001b[1;34m(self)\u001b[0m\n\u001b[0;32m    936\u001b[0m         \"\"\"\n\u001b[0;32m    937\u001b[0m         \u001b[1;32mif\u001b[0m \u001b[0mself\u001b[0m\u001b[1;33m.\u001b[0m\u001b[0m_invalidy\u001b[0m \u001b[1;32mor\u001b[0m \u001b[0mself\u001b[0m\u001b[1;33m.\u001b[0m\u001b[0m_invalidx\u001b[0m\u001b[1;33m:\u001b[0m\u001b[1;33m\u001b[0m\u001b[0m\n\u001b[1;32m--> 938\u001b[1;33m             \u001b[0mself\u001b[0m\u001b[1;33m.\u001b[0m\u001b[0mrecache\u001b[0m\u001b[1;33m(\u001b[0m\u001b[1;33m)\u001b[0m\u001b[1;33m\u001b[0m\u001b[0m\n\u001b[0m\u001b[0;32m    939\u001b[0m         \u001b[1;32mreturn\u001b[0m \u001b[0mself\u001b[0m\u001b[1;33m.\u001b[0m\u001b[0m_path\u001b[0m\u001b[1;33m\u001b[0m\u001b[0m\n\u001b[0;32m    940\u001b[0m \u001b[1;33m\u001b[0m\u001b[0m\n",
      "\u001b[1;32mC:\\Users\\Cloud User\\Anaconda2\\lib\\site-packages\\matplotlib\\lines.pyc\u001b[0m in \u001b[0;36mrecache\u001b[1;34m(self, always)\u001b[0m\n\u001b[0;32m    623\u001b[0m                 \u001b[0mx\u001b[0m \u001b[1;33m=\u001b[0m \u001b[0mma\u001b[0m\u001b[1;33m.\u001b[0m\u001b[0masarray\u001b[0m\u001b[1;33m(\u001b[0m\u001b[0mxconv\u001b[0m\u001b[1;33m,\u001b[0m \u001b[0mnp\u001b[0m\u001b[1;33m.\u001b[0m\u001b[0mfloat_\u001b[0m\u001b[1;33m)\u001b[0m\u001b[1;33m.\u001b[0m\u001b[0mfilled\u001b[0m\u001b[1;33m(\u001b[0m\u001b[0mnp\u001b[0m\u001b[1;33m.\u001b[0m\u001b[0mnan\u001b[0m\u001b[1;33m)\u001b[0m\u001b[1;33m\u001b[0m\u001b[0m\n\u001b[0;32m    624\u001b[0m             \u001b[1;32melse\u001b[0m\u001b[1;33m:\u001b[0m\u001b[1;33m\u001b[0m\u001b[0m\n\u001b[1;32m--> 625\u001b[1;33m                 \u001b[0mx\u001b[0m \u001b[1;33m=\u001b[0m \u001b[0mnp\u001b[0m\u001b[1;33m.\u001b[0m\u001b[0masarray\u001b[0m\u001b[1;33m(\u001b[0m\u001b[0mxconv\u001b[0m\u001b[1;33m,\u001b[0m \u001b[0mnp\u001b[0m\u001b[1;33m.\u001b[0m\u001b[0mfloat_\u001b[0m\u001b[1;33m)\u001b[0m\u001b[1;33m\u001b[0m\u001b[0m\n\u001b[0m\u001b[0;32m    626\u001b[0m             \u001b[0mx\u001b[0m \u001b[1;33m=\u001b[0m \u001b[0mx\u001b[0m\u001b[1;33m.\u001b[0m\u001b[0mravel\u001b[0m\u001b[1;33m(\u001b[0m\u001b[1;33m)\u001b[0m\u001b[1;33m\u001b[0m\u001b[0m\n\u001b[0;32m    627\u001b[0m         \u001b[1;32melse\u001b[0m\u001b[1;33m:\u001b[0m\u001b[1;33m\u001b[0m\u001b[0m\n",
      "\u001b[1;32mC:\\Users\\Cloud User\\Anaconda2\\lib\\site-packages\\numpy\\core\\numeric.pyc\u001b[0m in \u001b[0;36masarray\u001b[1;34m(a, dtype, order)\u001b[0m\n\u001b[0;32m    480\u001b[0m \u001b[1;33m\u001b[0m\u001b[0m\n\u001b[0;32m    481\u001b[0m     \"\"\"\n\u001b[1;32m--> 482\u001b[1;33m     \u001b[1;32mreturn\u001b[0m \u001b[0marray\u001b[0m\u001b[1;33m(\u001b[0m\u001b[0ma\u001b[0m\u001b[1;33m,\u001b[0m \u001b[0mdtype\u001b[0m\u001b[1;33m,\u001b[0m \u001b[0mcopy\u001b[0m\u001b[1;33m=\u001b[0m\u001b[0mFalse\u001b[0m\u001b[1;33m,\u001b[0m \u001b[0morder\u001b[0m\u001b[1;33m=\u001b[0m\u001b[0morder\u001b[0m\u001b[1;33m)\u001b[0m\u001b[1;33m\u001b[0m\u001b[0m\n\u001b[0m\u001b[0;32m    483\u001b[0m \u001b[1;33m\u001b[0m\u001b[0m\n\u001b[0;32m    484\u001b[0m \u001b[1;32mdef\u001b[0m \u001b[0masanyarray\u001b[0m\u001b[1;33m(\u001b[0m\u001b[0ma\u001b[0m\u001b[1;33m,\u001b[0m \u001b[0mdtype\u001b[0m\u001b[1;33m=\u001b[0m\u001b[0mNone\u001b[0m\u001b[1;33m,\u001b[0m \u001b[0morder\u001b[0m\u001b[1;33m=\u001b[0m\u001b[0mNone\u001b[0m\u001b[1;33m)\u001b[0m\u001b[1;33m:\u001b[0m\u001b[1;33m\u001b[0m\u001b[0m\n",
      "\u001b[1;31mValueError\u001b[0m: invalid literal for float(): 2016-8"
     ]
    },
    {
     "data": {
      "image/png": "[encoded data removed]",
      "text/plain": [
       "<matplotlib.figure.Figure at 0x724b630>"
      ]
     },
     "metadata": {},
     "output_type": "display_data"
    }
   ],
   "source": [
    "monterey_share = df_tot[df_tot['Region'] == \"Monterey County, CA\"]\n",
    "#monterey_share['Date'] = monterey_share['Date'].apply(str)\n",
    "monterey_share['Month-Year'] = monterey_share['Date'].apply(lambda x: str(x.year) + \"-\" + str(x.month))\n",
    "\n",
    "m_share = ggplot(aes(x=\"Month-Year\",y=\"Demand_share_mom\"), data = monterey_share)\n",
    "m_share = m_share + geom_line()# + scale_x_date(labels=date_format('%Y-%m-%d'))\n",
    "m_share.show()\n",
    "\n",
    "\n",
    "labels = monterey_share['Month-Year'].apply(str).tolist()\n",
    "#plt.plot(monterey_share['Demand_share'])\n",
    "#plt.xaxis.set_major\n",
    "#plt.xticks(np.arange(min(labels),max(labels)),labels)\n",
    "#plt.show()\n",
    "\n"
   ]
  },
  {
   "cell_type": "code",
   "execution_count": null,
   "metadata": {
    "collapsed": true
   },
   "outputs": [],
   "source": [
    "\"\""
   ]
  }
 ],
 "metadata": {
  "anaconda-cloud": {},
  "kernelspec": {
   "display_name": "Python [Root]",
   "language": "python",
   "name": "Python [Root]"
  },
  "language_info": {
   "codemirror_mode": {
    "name": "ipython",
    "version": 2
   },
   "file_extension": ".py",
   "mimetype": "text/x-python",
   "name": "python",
   "nbconvert_exporter": "python",
   "pygments_lexer": "ipython2",
   "version": "2.7.12"
  }
 },
 "nbformat": 4,
 "nbformat_minor": 0
}
